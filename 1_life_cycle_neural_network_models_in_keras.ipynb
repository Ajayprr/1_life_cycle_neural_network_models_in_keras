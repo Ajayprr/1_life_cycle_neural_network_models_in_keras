{
  "nbformat": 4,
  "nbformat_minor": 0,
  "metadata": {
    "kernelspec": {
      "display_name": "Python 2",
      "language": "python",
      "name": "python2"
    },
    "language_info": {
      "codemirror_mode": {
        "name": "ipython",
        "version": 2
      },
      "file_extension": ".py",
      "mimetype": "text/x-python",
      "name": "python",
      "nbconvert_exporter": "python",
      "pygments_lexer": "ipython2",
      "version": "2.7.14"
    },
    "colab": {
      "name": "1_life_cycle_neural_network_models_in_keras.ipynb",
      "provenance": [],
      "toc_visible": true,
      "include_colab_link": true
    }
  },
  "cells": [
    {
      "cell_type": "markdown",
      "metadata": {
        "id": "view-in-github",
        "colab_type": "text"
      },
      "source": [
        "<a href=\"https://colab.research.google.com/github/Ajayprr/1_life_cycle_neural_network_models_in_keras/blob/master/1_life_cycle_neural_network_models_in_keras.ipynb\" target=\"_parent\"><img src=\"https://colab.research.google.com/assets/colab-badge.svg\" alt=\"Open In Colab\"/></a>"
      ]
    },
    {
      "cell_type": "markdown",
      "metadata": {
        "id": "siW0HoRizJ7u",
        "colab_type": "text"
      },
      "source": [
        "#  Life-Cycle for Neural Network Models in Keras\n",
        "Deep learning neural networks are very easy to create and evaluate in Python with Keras, but you must follow a strict model life-cycle.\n",
        "\n",
        "In this post you will discover the step-by-step life-cycle for creating, training and evaluating deep learning neural networks in Keras and how to make predictions with a trained model.\n",
        "\n",
        "After reading this post you will know:\n",
        "\n",
        "* How to define, compile, fit and evaluate a deep learning neural network in Keras.\n",
        "* How to select standard defaults for regression and classification predictive modeling problems.\n",
        "* How to tie it all together to develop and run your first Multilayer Perceptron network in Keras.\n",
        "\n",
        "Let’s get started."
      ]
    },
    {
      "cell_type": "markdown",
      "metadata": {
        "id": "9LaoJTI6zJ7w",
        "colab_type": "text"
      },
      "source": [
        "## Overview\n",
        "Below is an overview of the 5 steps in the neural network model life-cycle in Keras that we are going to look at.\n",
        "\n",
        "1. Define Network.\n",
        "2. Compile Network.\n",
        "3. Fit Network.\n",
        "4. Evaluate Network.\n",
        "5. Make Predictions.\n",
        "\n",
        "![5-step](5-Step-Life-Cycle-for-Neural-Network-Models-in-Keras.png)"
      ]
    },
    {
      "cell_type": "markdown",
      "metadata": {
        "id": "JBmTua1rzJ7y",
        "colab_type": "text"
      },
      "source": [
        "## Step 1. Define Network\n",
        "The first step is to define your neural network.\n",
        "\n",
        "Neural networks are defined in Keras as a sequence of layers. The container for these layers is the Sequential class.\n",
        "\n",
        "The first step is to create an instance of the Sequential class. Then you can create your layers and add them in the order that they should be connected.\n",
        "\n",
        "For example, we can do this in two steps:"
      ]
    },
    {
      "cell_type": "code",
      "metadata": {
        "id": "kPobnjmwzJ7y",
        "colab_type": "code",
        "colab": {}
      },
      "source": [
        "model = Sequential()\n",
        "model.add(Dense(2))"
      ],
      "execution_count": 0,
      "outputs": []
    },
    {
      "cell_type": "markdown",
      "metadata": {
        "id": "pASqXGAnzJ74",
        "colab_type": "text"
      },
      "source": [
        "But we can also do this in one step by creating an array of layers and passing it to the constructor of the Sequential."
      ]
    },
    {
      "cell_type": "code",
      "metadata": {
        "id": "COVUfnH8zJ74",
        "colab_type": "code",
        "colab": {}
      },
      "source": [
        "layers = [Dense(2)]\n",
        "model = Sequential(layers)"
      ],
      "execution_count": 0,
      "outputs": []
    },
    {
      "cell_type": "markdown",
      "metadata": {
        "id": "WvYEpnJFzJ77",
        "colab_type": "text"
      },
      "source": [
        "The first layer in the network must define the number of inputs to expect. The way that this is specified can differ depending on the network type, but for a Multilayer Perceptron model this is specified by the input_dim attribute.\n",
        "\n",
        "For example, a small Multilayer Perceptron model with 2 inputs in the visible layer, 5 neurons in the hidden layer and one neuron in the output layer can be defined as:"
      ]
    },
    {
      "cell_type": "code",
      "metadata": {
        "id": "fmNmtrh2zJ78",
        "colab_type": "code",
        "colab": {}
      },
      "source": [
        "model = Sequential()\n",
        "model.add(Dense(5, input_dim=2))\n",
        "model.add(Dense(1))"
      ],
      "execution_count": 0,
      "outputs": []
    },
    {
      "cell_type": "markdown",
      "metadata": {
        "id": "sbclJE2CzJ8F",
        "colab_type": "text"
      },
      "source": [
        "Think of a Sequential model as a pipeline with your raw data fed in at the bottom and predictions that come out at the top.\n",
        "\n",
        "This is a helpful conception in Keras as concerns that were traditionally associated with a layer can also be split out and added as separate layers, clearly showing their role in the transform of data from input to prediction. For example, activation functions that transform a summed signal from each neuron in a layer can be extracted and added to the Sequential as a layer-like object called Activation."
      ]
    },
    {
      "cell_type": "code",
      "metadata": {
        "id": "dyIvKuDgzJ8F",
        "colab_type": "code",
        "colab": {}
      },
      "source": [
        "model = Sequential()\n",
        "model.add(Dense(5, input_dim=2))\n",
        "model.add(Activation('relu'))\n",
        "model.add(Dense(1))\n",
        "model.add(Activation('sigmoid'))"
      ],
      "execution_count": 0,
      "outputs": []
    },
    {
      "cell_type": "markdown",
      "metadata": {
        "id": "sawjA-tlzJ8J",
        "colab_type": "text"
      },
      "source": [
        "The choice of activation function is most important for the output layer as it will define the format that predictions will take.\n",
        "\n",
        "For example, below are some common predictive modeling problem types and the structure and standard activation function that you can use in the output layer:\n",
        "\n",
        "* Regression: Linear activation function or ‘linear’ and the number of neurons matching the number of outputs.\n",
        "* Binary Classification (2 class): Logistic activation function or ‘sigmoid’ and one neuron the output layer.\n",
        "* Multiclass Classification (>2 class): Softmax activation function or ‘softmax’ and one output neuron per class value, assuming a one-hot encoded output pattern."
      ]
    },
    {
      "cell_type": "markdown",
      "metadata": {
        "id": "JDEk8IhSzJ8K",
        "colab_type": "text"
      },
      "source": [
        "## Step 2. Compile Network\n",
        "Once we have defined our network, we must compile it.\n",
        "\n",
        "Compilation is an efficiency step. It transforms the simple sequence of layers that we defined into a highly efficient series of matrix transforms in a format intended to be executed on your GPU or CPU, depending on how Keras is configured.\n",
        "\n",
        "Think of compilation as a precompute step for your network.\n",
        "\n",
        "Compilation is always required after defining a model. This includes both before training it using an optimization scheme as well as loading a set of pre-trained weights from a save file. The reason is that the compilation step prepares an efficient representation of the network that is also required to make predictions on your hardware.\n",
        "\n",
        "Compilation requires a number of parameters to be specified, specifically tailored to training your network. Specifically the optimization algorithm to use to train the network and the loss function used to evaluate the network that is minimized by the optimization algorithm.\n",
        "\n",
        "For example, below is a case of compiling a defined model and specifying the stochastic gradient descent (sgd) optimization algorithm and the mean squared error (mse) loss function, intended for a regression type problem."
      ]
    },
    {
      "cell_type": "code",
      "metadata": {
        "id": "N0o1p7nwzJ8L",
        "colab_type": "code",
        "colab": {}
      },
      "source": [
        "model.compile(optimizer='sgd', loss='mse')"
      ],
      "execution_count": 0,
      "outputs": []
    },
    {
      "cell_type": "markdown",
      "metadata": {
        "id": "lw1-mz0fzJ8W",
        "colab_type": "text"
      },
      "source": [
        "The type of predictive modeling problem imposes constraints on the type of loss function that can be used.\n",
        "\n",
        "For example, below are some standard loss functions for different predictive model types:\n",
        "\n",
        "* Regression: Mean Squared Error or ‘mse‘.\n",
        "* Binary Classification (2 class): Logarithmic Loss, also called cross entropy or ‘binary_crossentropy‘.\n",
        "* Multiclass Classification (>2 class): Multiclass Logarithmic Loss or ‘categorical_crossentropy‘.\n",
        "\n",
        "You can review the [suite of loss functions supported by Keras](https://keras.io/objectives/).\n",
        "\n",
        "The most common optimization algorithm is stochastic gradient descent, but Keras also supports a [suite of other state of the art optimization algorithms](https://keras.io/optimizers/).\n",
        "\n",
        "Perhaps the most commonly used optimization algorithms because of their generally better performance are:\n",
        "\n",
        "* Stochastic Gradient Descent or ‘sgd‘ that requires the tuning of a learning rate and momentum.\n",
        "* ADAM or ‘adam‘ that requires the tuning of learning rate.\n",
        "* RMSprop or ‘rmsprop‘ that requires the tuning of learning rate.\n",
        "\n",
        "Finally, you can also specify metrics to collect while fitting your model in addition to the loss function. Generally, the most useful additional metric to collect is accuracy for classification problems. The metrics to collect are specified by name in an array.\n",
        "\n",
        "For example:"
      ]
    },
    {
      "cell_type": "code",
      "metadata": {
        "id": "dOYwQZiWzJ8X",
        "colab_type": "code",
        "colab": {}
      },
      "source": [
        "model.compile(optimizer='sgd', loss='mse', metrics=['accuracy'])"
      ],
      "execution_count": 0,
      "outputs": []
    },
    {
      "cell_type": "markdown",
      "metadata": {
        "id": "zoAYgiaNzJ8c",
        "colab_type": "text"
      },
      "source": [
        "## Step 3. Fit Network\n",
        "Once the network is compiled, it can be fit, which means adapt the weights on a training dataset.\n",
        "\n",
        "Fitting the network requires the training data to be specified, both a matrix of input patterns X and an array of matching output patterns y.\n",
        "\n",
        "The network is trained using the backpropagation algorithm and optimized according to the optimization algorithm and loss function specified when compiling the model.\n",
        "\n",
        "The backpropagation algorithm requires that the network be trained for a specified number of epochs or exposures to the training dataset.\n",
        "\n",
        "Each epoch can be partitioned into groups of input-output pattern pairs called batches. This define the number of patterns that the network is exposed to before the weights are updated within an epoch. It is also an efficiency optimization, ensuring that not too many input patterns are loaded into memory at a time.\n",
        "\n",
        "A minimal example of fitting a network is as follows:"
      ]
    },
    {
      "cell_type": "code",
      "metadata": {
        "id": "RXOyJIHTzJ8d",
        "colab_type": "code",
        "colab": {}
      },
      "source": [
        "history = model.fit(X, y, batch_size=10, epochs=100)"
      ],
      "execution_count": 0,
      "outputs": []
    },
    {
      "cell_type": "markdown",
      "metadata": {
        "id": "HG-dlWtizJ8m",
        "colab_type": "text"
      },
      "source": [
        "Once fit, a history object is returned that provides a summary of the performance of the model during training. This includes both the loss and any additional metrics specified when compiling the model, recorded each epoch.\n",
        "\n",
        "## Step 4. Evaluate Network\n",
        "Once the network is trained, it can be evaluated.\n",
        "\n",
        "The network can be evaluated on the training data, but this will not provide a useful indication of the performance of the network as a predictive model, as it has seen all of this data before.\n",
        "\n",
        "We can evaluate the performance of the network on a separate dataset, unseen during testing. This will provide an estimate of the performance of the network at making predictions for unseen data in the future.\n",
        "\n",
        "The model evaluates the loss across all of the test patterns, as well as any other metrics specified when the model was compiled, like classification accuracy. A list of evaluation metrics is returned.\n",
        "\n",
        "For example, for a model compiled with the accuracy metric, we could evaluate it on a new dataset as follows:"
      ]
    },
    {
      "cell_type": "code",
      "metadata": {
        "id": "F4ZfpLpSzJ8n",
        "colab_type": "code",
        "colab": {}
      },
      "source": [
        "loss, accuracy = model.evaluate(X, y)"
      ],
      "execution_count": 0,
      "outputs": []
    },
    {
      "cell_type": "markdown",
      "metadata": {
        "id": "6mE9uK8tzJ8s",
        "colab_type": "text"
      },
      "source": [
        "## Step 5. Make Predictions\n",
        "Finally, once we are satisfied with the performance of our fit model, we can use it to make predictions on new data.\n",
        "\n",
        "This is as easy as calling the predict() function on the model with an array of new input patterns.\n",
        "\n",
        "For example:"
      ]
    },
    {
      "cell_type": "code",
      "metadata": {
        "id": "sCgEa4YPzJ8w",
        "colab_type": "code",
        "colab": {}
      },
      "source": [
        "predictions = model.predict(x)"
      ],
      "execution_count": 0,
      "outputs": []
    },
    {
      "cell_type": "markdown",
      "metadata": {
        "id": "--dkbjlzzJ84",
        "colab_type": "text"
      },
      "source": [
        "The predictions will be returned in the format provided by the output layer of the network.\n",
        "\n",
        "In the case of a regression problem, these predictions may be in the format of the problem directly, provided by a linear activation function.\n",
        "\n",
        "For a binary classification problem, the predictions may be an array of probabilities for the first class that can be converted to a 1 or 0 by rounding.\n",
        "\n",
        "For a multiclass classification problem, the results may be in the form of an array of probabilities (assuming a one hot encoded output variable) that may need to be converted to a single class output prediction using the [argmax function](https://docs.scipy.org/doc/numpy/reference/generated/numpy.argmax.html).\n",
        "\n",
        "## End-to-End Worked Example\n",
        "Let’s tie all of this together with a small worked example.\n",
        "\n",
        "This example will use the Pima Indians onset of diabetes binary classification problem, that you can [download from the UCI Machine Learning Repository](https://archive.ics.uci.edu/ml/datasets/Pima+Indians+Diabetes).\n",
        "\n",
        "The problem has 8 input variables and a single output class variable with the integer values 0 and 1.\n",
        "\n",
        "We will construct a Multilayer Perceptron neural network with a 8 inputs in the visible layer, 12 neurons in the hidden layer with a rectifier activation function and 1 neuron in the output layer with a sigmoid activation function.\n",
        "\n",
        "We will train the network for 100 epochs with a batch size of 10, optimized using the ADAM optimization algorithm and the logarithmic loss function.\n",
        "\n",
        "Once fit, we will evaluate the model on the training data and then make standalone predictions for the training data. This is for brevity, normally we would evaluate the model on a separate test dataset and make predictions for new data.\n",
        "\n",
        "The complete code listing is provided below."
      ]
    },
    {
      "cell_type": "code",
      "metadata": {
        "id": "dCOZ-M0zzJ84",
        "colab_type": "code",
        "outputId": "f3bf2206-c823-4cf8-b120-9eced1decd71",
        "colab": {
          "base_uri": "https://localhost:8080/",
          "height": 1000
        }
      },
      "source": [
        "# Sample Multilayer Perceptron Neural Network in Keras\n",
        "from keras.models import Sequential\n",
        "from keras.layers import Dense\n",
        "import numpy\n",
        "# load and prepare the dataset\n",
        "dataset = numpy.loadtxt(\"/content/pima-indians-diabetes.csv\", delimiter=\",\")\n",
        "X = dataset[:,0:8]\n",
        "Y = dataset[:,8]\n",
        "# 1. define the network\n",
        "model = Sequential()\n",
        "model.add(Dense(12, input_dim=8, activation='relu'))\n",
        "model.add(Dense(1, activation='sigmoid'))\n",
        "# 2. compile the network\n",
        "model.compile(loss='binary_crossentropy', optimizer='adam', metrics=['accuracy'])\n",
        "# 3. fit the network\n",
        "history = model.fit(X, Y, epochs=100, batch_size=10)\n",
        "# 4. evaluate the network\n",
        "loss, accuracy = model.evaluate(X, Y)\n",
        "print(\"\\nLoss: %.2f, Accuracy: %.2f%%\" % (loss, accuracy*100))\n",
        "# 5. make predictions\n",
        "probabilities = model.predict(X)\n",
        "predictions = [float(round(x)) for x in probabilities]\n",
        "accuracy = numpy.mean(predictions == Y)\n",
        "print(\"Prediction Accuracy: %.2f%%\" % (accuracy*100))"
      ],
      "execution_count": 2,
      "outputs": [
        {
          "output_type": "stream",
          "text": [
            "Epoch 1/100\n",
            "768/768 [==============================] - 0s 393us/step - loss: 39.4216 - accuracy: 0.3490\n",
            "Epoch 2/100\n",
            "768/768 [==============================] - 0s 110us/step - loss: 8.2261 - accuracy: 0.4167\n",
            "Epoch 3/100\n",
            "768/768 [==============================] - 0s 104us/step - loss: 3.7420 - accuracy: 0.5221\n",
            "Epoch 4/100\n",
            "768/768 [==============================] - 0s 107us/step - loss: 2.8721 - accuracy: 0.5352\n",
            "Epoch 5/100\n",
            "768/768 [==============================] - 0s 106us/step - loss: 2.2940 - accuracy: 0.5430\n",
            "Epoch 6/100\n",
            "768/768 [==============================] - 0s 106us/step - loss: 1.8399 - accuracy: 0.5404\n",
            "Epoch 7/100\n",
            "768/768 [==============================] - 0s 105us/step - loss: 1.5459 - accuracy: 0.5391\n",
            "Epoch 8/100\n",
            "768/768 [==============================] - 0s 110us/step - loss: 1.3438 - accuracy: 0.5417\n",
            "Epoch 9/100\n",
            "768/768 [==============================] - 0s 108us/step - loss: 1.2358 - accuracy: 0.5339\n",
            "Epoch 10/100\n",
            "768/768 [==============================] - 0s 104us/step - loss: 1.1584 - accuracy: 0.5599\n",
            "Epoch 11/100\n",
            "768/768 [==============================] - 0s 103us/step - loss: 1.0918 - accuracy: 0.5794\n",
            "Epoch 12/100\n",
            "768/768 [==============================] - 0s 105us/step - loss: 1.0189 - accuracy: 0.5755\n",
            "Epoch 13/100\n",
            "768/768 [==============================] - 0s 116us/step - loss: 0.9761 - accuracy: 0.5677\n",
            "Epoch 14/100\n",
            "768/768 [==============================] - 0s 105us/step - loss: 0.9290 - accuracy: 0.5768\n",
            "Epoch 15/100\n",
            "768/768 [==============================] - 0s 104us/step - loss: 0.8916 - accuracy: 0.6003\n",
            "Epoch 16/100\n",
            "768/768 [==============================] - 0s 104us/step - loss: 0.8361 - accuracy: 0.6003\n",
            "Epoch 17/100\n",
            "768/768 [==============================] - 0s 104us/step - loss: 0.8318 - accuracy: 0.5990\n",
            "Epoch 18/100\n",
            "768/768 [==============================] - 0s 113us/step - loss: 0.7780 - accuracy: 0.6419\n",
            "Epoch 19/100\n",
            "768/768 [==============================] - 0s 105us/step - loss: 0.7526 - accuracy: 0.6263\n",
            "Epoch 20/100\n",
            "768/768 [==============================] - 0s 106us/step - loss: 0.7064 - accuracy: 0.6484\n",
            "Epoch 21/100\n",
            "768/768 [==============================] - 0s 105us/step - loss: 0.7167 - accuracy: 0.6367\n",
            "Epoch 22/100\n",
            "768/768 [==============================] - 0s 105us/step - loss: 0.6876 - accuracy: 0.6667\n",
            "Epoch 23/100\n",
            "768/768 [==============================] - 0s 108us/step - loss: 0.7369 - accuracy: 0.6445\n",
            "Epoch 24/100\n",
            "768/768 [==============================] - 0s 105us/step - loss: 0.6934 - accuracy: 0.6680\n",
            "Epoch 25/100\n",
            "768/768 [==============================] - 0s 110us/step - loss: 0.6919 - accuracy: 0.6471\n",
            "Epoch 26/100\n",
            "768/768 [==============================] - 0s 107us/step - loss: 0.6478 - accuracy: 0.6732\n",
            "Epoch 27/100\n",
            "768/768 [==============================] - 0s 106us/step - loss: 0.6634 - accuracy: 0.6536\n",
            "Epoch 28/100\n",
            "768/768 [==============================] - 0s 112us/step - loss: 0.6310 - accuracy: 0.6680\n",
            "Epoch 29/100\n",
            "768/768 [==============================] - 0s 105us/step - loss: 0.6442 - accuracy: 0.6732\n",
            "Epoch 30/100\n",
            "768/768 [==============================] - 0s 105us/step - loss: 0.6339 - accuracy: 0.6966\n",
            "Epoch 31/100\n",
            "768/768 [==============================] - 0s 104us/step - loss: 0.6475 - accuracy: 0.6667\n",
            "Epoch 32/100\n",
            "768/768 [==============================] - 0s 109us/step - loss: 0.6110 - accuracy: 0.7096\n",
            "Epoch 33/100\n",
            "768/768 [==============================] - 0s 113us/step - loss: 0.6699 - accuracy: 0.6654\n",
            "Epoch 34/100\n",
            "768/768 [==============================] - 0s 110us/step - loss: 0.6396 - accuracy: 0.6784\n",
            "Epoch 35/100\n",
            "768/768 [==============================] - 0s 110us/step - loss: 0.6037 - accuracy: 0.6927\n",
            "Epoch 36/100\n",
            "768/768 [==============================] - 0s 115us/step - loss: 0.6020 - accuracy: 0.6992\n",
            "Epoch 37/100\n",
            "768/768 [==============================] - 0s 107us/step - loss: 0.5892 - accuracy: 0.7070\n",
            "Epoch 38/100\n",
            "768/768 [==============================] - 0s 110us/step - loss: 0.6024 - accuracy: 0.6836\n",
            "Epoch 39/100\n",
            "768/768 [==============================] - 0s 105us/step - loss: 0.5911 - accuracy: 0.7122\n",
            "Epoch 40/100\n",
            "768/768 [==============================] - 0s 105us/step - loss: 0.6188 - accuracy: 0.6836\n",
            "Epoch 41/100\n",
            "768/768 [==============================] - 0s 106us/step - loss: 0.5824 - accuracy: 0.7083\n",
            "Epoch 42/100\n",
            "768/768 [==============================] - 0s 105us/step - loss: 0.5986 - accuracy: 0.6966\n",
            "Epoch 43/100\n",
            "768/768 [==============================] - 0s 110us/step - loss: 0.5823 - accuracy: 0.7057\n",
            "Epoch 44/100\n",
            "768/768 [==============================] - 0s 106us/step - loss: 0.6078 - accuracy: 0.6888\n",
            "Epoch 45/100\n",
            "768/768 [==============================] - 0s 105us/step - loss: 0.5811 - accuracy: 0.7214\n",
            "Epoch 46/100\n",
            "768/768 [==============================] - 0s 106us/step - loss: 0.5960 - accuracy: 0.7044\n",
            "Epoch 47/100\n",
            "768/768 [==============================] - 0s 106us/step - loss: 0.5775 - accuracy: 0.7253\n",
            "Epoch 48/100\n",
            "768/768 [==============================] - 0s 112us/step - loss: 0.5689 - accuracy: 0.7188\n",
            "Epoch 49/100\n",
            "768/768 [==============================] - 0s 103us/step - loss: 0.5903 - accuracy: 0.6979\n",
            "Epoch 50/100\n",
            "768/768 [==============================] - 0s 110us/step - loss: 0.5721 - accuracy: 0.7005\n",
            "Epoch 51/100\n",
            "768/768 [==============================] - 0s 110us/step - loss: 0.5728 - accuracy: 0.7227\n",
            "Epoch 52/100\n",
            "768/768 [==============================] - 0s 107us/step - loss: 0.5817 - accuracy: 0.7109\n",
            "Epoch 53/100\n",
            "768/768 [==============================] - 0s 107us/step - loss: 0.5641 - accuracy: 0.7148\n",
            "Epoch 54/100\n",
            "768/768 [==============================] - 0s 106us/step - loss: 0.5984 - accuracy: 0.6953\n",
            "Epoch 55/100\n",
            "768/768 [==============================] - 0s 115us/step - loss: 0.5920 - accuracy: 0.7057\n",
            "Epoch 56/100\n",
            "768/768 [==============================] - 0s 110us/step - loss: 0.5864 - accuracy: 0.7018\n",
            "Epoch 57/100\n",
            "768/768 [==============================] - 0s 105us/step - loss: 0.5601 - accuracy: 0.7201\n",
            "Epoch 58/100\n",
            "768/768 [==============================] - 0s 106us/step - loss: 0.5627 - accuracy: 0.7344\n",
            "Epoch 59/100\n",
            "768/768 [==============================] - 0s 105us/step - loss: 0.5700 - accuracy: 0.7279\n",
            "Epoch 60/100\n",
            "768/768 [==============================] - 0s 120us/step - loss: 0.5583 - accuracy: 0.7122\n",
            "Epoch 61/100\n",
            "768/768 [==============================] - 0s 106us/step - loss: 0.5575 - accuracy: 0.7279\n",
            "Epoch 62/100\n",
            "768/768 [==============================] - 0s 104us/step - loss: 0.5460 - accuracy: 0.7422\n",
            "Epoch 63/100\n",
            "768/768 [==============================] - 0s 105us/step - loss: 0.5756 - accuracy: 0.7109\n",
            "Epoch 64/100\n",
            "768/768 [==============================] - 0s 115us/step - loss: 0.5988 - accuracy: 0.6992\n",
            "Epoch 65/100\n",
            "768/768 [==============================] - 0s 107us/step - loss: 0.5716 - accuracy: 0.7188\n",
            "Epoch 66/100\n",
            "768/768 [==============================] - 0s 106us/step - loss: 0.5550 - accuracy: 0.7292\n",
            "Epoch 67/100\n",
            "768/768 [==============================] - 0s 105us/step - loss: 0.5641 - accuracy: 0.7240\n",
            "Epoch 68/100\n",
            "768/768 [==============================] - 0s 121us/step - loss: 0.5525 - accuracy: 0.7318\n",
            "Epoch 69/100\n",
            "768/768 [==============================] - 0s 108us/step - loss: 0.5519 - accuracy: 0.7331\n",
            "Epoch 70/100\n",
            "768/768 [==============================] - 0s 113us/step - loss: 0.5587 - accuracy: 0.7266\n",
            "Epoch 71/100\n",
            "768/768 [==============================] - 0s 107us/step - loss: 0.5515 - accuracy: 0.6992\n",
            "Epoch 72/100\n",
            "768/768 [==============================] - 0s 111us/step - loss: 0.5383 - accuracy: 0.7474\n",
            "Epoch 73/100\n",
            "768/768 [==============================] - 0s 108us/step - loss: 0.5560 - accuracy: 0.7227\n",
            "Epoch 74/100\n",
            "768/768 [==============================] - 0s 115us/step - loss: 0.5496 - accuracy: 0.7096\n",
            "Epoch 75/100\n",
            "768/768 [==============================] - 0s 109us/step - loss: 0.5414 - accuracy: 0.7305\n",
            "Epoch 76/100\n",
            "768/768 [==============================] - 0s 108us/step - loss: 0.5512 - accuracy: 0.7370\n",
            "Epoch 77/100\n",
            "768/768 [==============================] - 0s 106us/step - loss: 0.5824 - accuracy: 0.6979\n",
            "Epoch 78/100\n",
            "768/768 [==============================] - 0s 108us/step - loss: 0.5935 - accuracy: 0.7018\n",
            "Epoch 79/100\n",
            "768/768 [==============================] - 0s 106us/step - loss: 0.5405 - accuracy: 0.7357\n",
            "Epoch 80/100\n",
            "768/768 [==============================] - 0s 117us/step - loss: 0.5340 - accuracy: 0.7461\n",
            "Epoch 81/100\n",
            "768/768 [==============================] - 0s 112us/step - loss: 0.5635 - accuracy: 0.7240\n",
            "Epoch 82/100\n",
            "768/768 [==============================] - 0s 107us/step - loss: 0.5627 - accuracy: 0.7331\n",
            "Epoch 83/100\n",
            "768/768 [==============================] - 0s 114us/step - loss: 0.5784 - accuracy: 0.7122\n",
            "Epoch 84/100\n",
            "768/768 [==============================] - 0s 107us/step - loss: 0.5351 - accuracy: 0.7422\n",
            "Epoch 85/100\n",
            "768/768 [==============================] - 0s 107us/step - loss: 0.5503 - accuracy: 0.7344\n",
            "Epoch 86/100\n",
            "768/768 [==============================] - 0s 105us/step - loss: 0.5352 - accuracy: 0.7474\n",
            "Epoch 87/100\n",
            "768/768 [==============================] - 0s 106us/step - loss: 0.5338 - accuracy: 0.7526\n",
            "Epoch 88/100\n",
            "768/768 [==============================] - 0s 106us/step - loss: 0.5449 - accuracy: 0.7318\n",
            "Epoch 89/100\n",
            "768/768 [==============================] - 0s 105us/step - loss: 0.5341 - accuracy: 0.7448\n",
            "Epoch 90/100\n",
            "768/768 [==============================] - 0s 112us/step - loss: 0.5478 - accuracy: 0.7240\n",
            "Epoch 91/100\n",
            "768/768 [==============================] - 0s 105us/step - loss: 0.5519 - accuracy: 0.7253\n",
            "Epoch 92/100\n",
            "768/768 [==============================] - 0s 105us/step - loss: 0.5377 - accuracy: 0.7305\n",
            "Epoch 93/100\n",
            "768/768 [==============================] - 0s 105us/step - loss: 0.5353 - accuracy: 0.7292\n",
            "Epoch 94/100\n",
            "768/768 [==============================] - 0s 106us/step - loss: 0.5532 - accuracy: 0.7253\n",
            "Epoch 95/100\n",
            "768/768 [==============================] - 0s 114us/step - loss: 0.5399 - accuracy: 0.7448\n",
            "Epoch 96/100\n",
            "768/768 [==============================] - 0s 106us/step - loss: 0.5207 - accuracy: 0.7604\n",
            "Epoch 97/100\n",
            "768/768 [==============================] - 0s 105us/step - loss: 0.5214 - accuracy: 0.7461\n",
            "Epoch 98/100\n",
            "768/768 [==============================] - 0s 105us/step - loss: 0.5346 - accuracy: 0.7409\n",
            "Epoch 99/100\n",
            "768/768 [==============================] - 0s 107us/step - loss: 0.5257 - accuracy: 0.7487\n",
            "Epoch 100/100\n",
            "768/768 [==============================] - 0s 115us/step - loss: 0.5413 - accuracy: 0.7370\n",
            "768/768 [==============================] - 0s 40us/step\n",
            "\n",
            "Loss: 0.51, Accuracy: 75.65%\n",
            "Prediction Accuracy: 75.65%\n"
          ],
          "name": "stdout"
        }
      ]
    },
    {
      "cell_type": "markdown",
      "metadata": {
        "id": "xYC8kX_jzJ88",
        "colab_type": "text"
      },
      "source": [
        "## Summary\n",
        "In this post you discovered the 5-step life-cycle of a deep learning neural network using the Keras library.\n",
        "\n",
        "Specifically, you learned:\n",
        "\n",
        "* How to define, compile, fit, evaluate and make predictions for a neural network in Keras.\n",
        "* How to select activation functions and output layer configurations for classification and regression problems.\n",
        "* How to develop and run your first Multilayer Perceptron model in Keras."
      ]
    },
    {
      "cell_type": "code",
      "metadata": {
        "id": "-0oxKCsH2Izu",
        "colab_type": "code",
        "colab": {
          "base_uri": "https://localhost:8080/",
          "height": 34
        },
        "outputId": "b52fe165-8b16-4f56-afaa-f4574b84627f"
      },
      "source": [
        "!git init\n"
      ],
      "execution_count": 4,
      "outputs": [
        {
          "output_type": "stream",
          "text": [
            "Reinitialized existing Git repository in /content/.git/\n"
          ],
          "name": "stdout"
        }
      ]
    },
    {
      "cell_type": "code",
      "metadata": {
        "id": "mjVcZowG3K7L",
        "colab_type": "code",
        "colab": {}
      },
      "source": [
        ""
      ],
      "execution_count": 0,
      "outputs": []
    }
  ]
}